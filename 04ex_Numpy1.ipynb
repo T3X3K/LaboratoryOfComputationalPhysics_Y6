{
 "cells": [
  {
   "cell_type": "code",
   "execution_count": 2,
   "metadata": {},
   "outputs": [],
   "source": [
    "import numpy as np"
   ]
  },
  {
   "cell_type": "markdown",
   "metadata": {},
   "source": [
    "### Numpy basics"
   ]
  },
  {
   "cell_type": "markdown",
   "metadata": {},
   "source": [
    "1\\. Find the row, column and overall means for the following matrix:\n",
    "\n",
    "```python\n",
    "m = np.arange(12).reshape((3,4))\n",
    "```"
   ]
  },
  {
   "cell_type": "code",
   "execution_count": 12,
   "metadata": {},
   "outputs": [
    {
     "name": "stdout",
     "output_type": "stream",
     "text": [
      "[[ 0  1  2  3]\n",
      " [ 4  5  6  7]\n",
      " [ 8  9 10 11]]\n",
      "overall mean:  5.5\n",
      "row mean:  [1.5 5.5 9.5]\n",
      "column mean:  [4. 5. 6. 7.]\n"
     ]
    }
   ],
   "source": [
    "m = np.arange(12).reshape((3,4))\n",
    "print(m)\n",
    "print('overall mean: ', m.mean())\n",
    "print('row mean: ', m.mean(axis=1))\n",
    "print('column mean: ', m.mean(axis=0))"
   ]
  },
  {
   "cell_type": "markdown",
   "metadata": {},
   "source": [
    "2\\. Find the outer product of the following two vecotrs\n",
    "\n",
    "```python\n",
    "u = np.array([1,3,5,7])\n",
    "v = np.array([2,4,6,8])\n",
    "```\n",
    "\n",
    "Do this in the following ways:\n",
    "\n",
    "   * Using the function outer in numpy\n",
    "   * Using a nested for loop or list comprehension\n",
    "   * Using numpy broadcasting operatoins\n"
   ]
  },
  {
   "cell_type": "code",
   "execution_count": 85,
   "metadata": {},
   "outputs": [
    {
     "name": "stdout",
     "output_type": "stream",
     "text": [
      "[[ 2  4  6  8]\n",
      " [ 6 12 18 24]\n",
      " [10 20 30 40]\n",
      " [14 28 42 56]]\n",
      "[[[ 2 12 30 56]]]\n",
      "[[ 2  4  6  8]\n",
      " [ 6 12 18 24]\n",
      " [10 20 30 40]\n",
      " [14 28 42 56]]\n",
      "[[ 2  4  6  8]\n",
      " [ 6 12 18 24]\n",
      " [10 20 30 40]\n",
      " [14 28 42 56]]\n"
     ]
    }
   ],
   "source": [
    "u = np.array([[1,3,5,7]])\n",
    "v = np.array([[2,4,6,8]])\n",
    "print(np.outer(u, v))\n",
    "\n",
    "print(np.array([[i*j for j in v] for i in u]))\n",
    "\n",
    "print(np.array(u.T * v))"
   ]
  },
  {
   "cell_type": "markdown",
   "metadata": {},
   "source": [
    "3\\. Create a 10 by 6 matrix of random uniform numbers. Set all rows with any entry less than 0.1 to be zero\n",
    "\n",
    "Hint: Use the following numpy functions - np.random.random, np.any as well as Boolean indexing and the axis argument."
   ]
  },
  {
   "cell_type": "code",
   "execution_count": 45,
   "metadata": {},
   "outputs": [],
   "source": [
    "import numpy.random as npr\n",
    "npr.seed(123)\n",
    "\n",
    "m = npr.rand(10, 6)\n",
    "\n",
    "m[np.any(m<0.1, axis=1)]=0"
   ]
  },
  {
   "cell_type": "markdown",
   "metadata": {},
   "source": [
    "4\\. Use np.linspace to create an array of 100 numbers between 0 and 2π (includsive).\n",
    "\n",
    "  * Extract every 10th element using slice notation\n",
    "  * Reverse the array using slice notation\n",
    "  * Extract elements where the absolute difference between the sine and cosine functions evaluated at that element is less than 0.1\n",
    "  * Make a plot showing the sin and cos functions and indicate where they are close"
   ]
  },
  {
   "cell_type": "code",
   "execution_count": 58,
   "metadata": {},
   "outputs": [
    {
     "name": "stdout",
     "output_type": "stream",
     "text": [
      "[0.76159822 0.82506474 3.87145761 3.93492413]\n"
     ]
    }
   ],
   "source": [
    "from math import pi\n",
    "from numpy import sin, cos\n",
    "l = np.linspace(0, 2*pi, 100)\n",
    "x = l[9::10].copy()\n",
    "s = l[-1::-1].copy()\n",
    "\n",
    "absolutely = l[abs(cos(l)-sin(l)) < 0.1]\n",
    "print(absolutely)"
   ]
  },
  {
   "cell_type": "markdown",
   "metadata": {},
   "source": [
    "5\\. Create a matrix that shows the 10 by 10 multiplication table.\n",
    "\n",
    " * Find the trace of the matrix\n",
    " * Extract the anto-diagonal (this should be ```array([10, 18, 24, 28, 30, 30, 28, 24, 18, 10])```)\n",
    " * Extract the diagnoal offset by 1 upwards (this should be ```array([ 2,  6, 12, 20, 30, 42, 56, 72, 90])```)"
   ]
  },
  {
   "cell_type": "code",
   "execution_count": 78,
   "metadata": {},
   "outputs": [
    {
     "name": "stdout",
     "output_type": "stream",
     "text": [
      "385\n",
      "[10, 18, 24, 28, 30, 30, 28, 24, 18, 10]\n",
      "[2, 6, 12, 20, 30, 42, 56, 72, 90]\n"
     ]
    }
   ],
   "source": [
    "m = np.array([[i*j for i in range(1, 11)] for j in range(1, 11)])\n",
    "\n",
    "print(m.trace())\n",
    "print([m[-i-1,i] for i in range(10)])\n",
    "print([m[i,i+1] for i in range(9)])"
   ]
  },
  {
   "cell_type": "markdown",
   "metadata": {},
   "source": [
    "6\\. Use broadcasting to create a grid of distances\n",
    "\n",
    "Route 66 crosses the following cities in the US: Chicago, Springfield, Saint-Louis, Tulsa, Oklahoma City, Amarillo, Santa Fe, Albuquerque, Flagstaff, Los Angeles\n",
    "The corresponding positions in miles are: 0, 198, 303, 736, 871, 1175, 1475, 1544, 1913, 2448\n",
    "\n",
    "  * Construct a 2D grid of distances among each city along Route 66\n",
    "  * Convert that in km (those savages...)"
   ]
  },
  {
   "cell_type": "code",
   "execution_count": 88,
   "metadata": {},
   "outputs": [
    {
     "name": "stdout",
     "output_type": "stream",
     "text": [
      "[[   0  198  303  736  871 1175 1475 1544 1913 2448]\n",
      " [ 198    0  105  538  673  977 1277 1346 1715 2250]\n",
      " [ 303  105    0  433  568  872 1172 1241 1610 2145]\n",
      " [ 736  538  433    0  135  439  739  808 1177 1712]\n",
      " [ 871  673  568  135    0  304  604  673 1042 1577]\n",
      " [1175  977  872  439  304    0  300  369  738 1273]\n",
      " [1475 1277 1172  739  604  300    0   69  438  973]\n",
      " [1544 1346 1241  808  673  369   69    0  369  904]\n",
      " [1913 1715 1610 1177 1042  738  438  369    0  535]\n",
      " [2448 2250 2145 1712 1577 1273  973  904  535    0]]\n",
      "[[   0.   336.6  515.1 1251.2 1480.7 1997.5 2507.5 2624.8 3252.1 4161.6]\n",
      " [ 336.6    0.   178.5  914.6 1144.1 1660.9 2170.9 2288.2 2915.5 3825. ]\n",
      " [ 515.1  178.5    0.   736.1  965.6 1482.4 1992.4 2109.7 2737.  3646.5]\n",
      " [1251.2  914.6  736.1    0.   229.5  746.3 1256.3 1373.6 2000.9 2910.4]\n",
      " [1480.7 1144.1  965.6  229.5    0.   516.8 1026.8 1144.1 1771.4 2680.9]\n",
      " [1997.5 1660.9 1482.4  746.3  516.8    0.   510.   627.3 1254.6 2164.1]\n",
      " [2507.5 2170.9 1992.4 1256.3 1026.8  510.     0.   117.3  744.6 1654.1]\n",
      " [2624.8 2288.2 2109.7 1373.6 1144.1  627.3  117.3    0.   627.3 1536.8]\n",
      " [3252.1 2915.5 2737.  2000.9 1771.4 1254.6  744.6  627.3    0.   909.5]\n",
      " [4161.6 3825.  3646.5 2910.4 2680.9 2164.1 1654.1 1536.8  909.5    0. ]]\n"
     ]
    }
   ],
   "source": [
    "pos = np.array([0, 198, 303, 736, 871, 1175, 1475, 1544, 1913, 2448])\n",
    "neg = np.array([pos])\n",
    "dist = np.absolute(pos-neg.T)\n",
    "print(dist)\n",
    "real_distance = dist*1.7\n",
    "print(real_distance)"
   ]
  },
  {
   "cell_type": "markdown",
   "metadata": {},
   "source": [
    "7\\. Prime numbers sieve: compute the prime numbers in the 0-N (N=99 to start with) range with a sieve (mask).\n",
    "  * Constract a shape (100,) boolean array, the mask\n",
    "  * Identify the multiples of each number starting from 2 and set accordingly the corresponding mask element\n",
    "  * Apply the mask to obtain an array of ordered prime numbers\n",
    "  * Check the performances (timeit); how does it scale with N?\n",
    "  * Implement the optimization suggested in the [sieve of Eratosthenes](https://en.wikipedia.org/wiki/Sieve_of_Eratosthenes)"
   ]
  },
  {
   "cell_type": "code",
   "execution_count": 101,
   "metadata": {},
   "outputs": [
    {
     "name": "stdout",
     "output_type": "stream",
     "text": [
      "[False False False False False False False False False False  True False\n",
      " False False False False False False False False  True False False False\n",
      " False False False False False False  True False False False False False\n",
      " False False False False  True False False False False False False False\n",
      " False False  True False False False False False False False False False\n",
      "  True False False False False False False False False False  True False\n",
      " False False False False False False False False  True False False False\n",
      " False False False False False False  True False False False False False\n",
      " False False False False]\n"
     ]
    }
   ],
   "source": [
    "isprime = np.ones(100, dtype=bool)\n",
    "nums = np.array([i for i in range(100)])\n",
    "for i in range(2, 11):\n",
    "    isprime = (nums % i == 0)\n",
    "isprime[0:1] = False\n",
    "\n",
    "print(isprime)"
   ]
  },
  {
   "cell_type": "markdown",
   "metadata": {},
   "source": [
    "**N.B. the following exercises are meant to be solved only if you are familiar with the numpy random library. If not you can skip them (postponed for one of the next exercise sessions)**\n"
   ]
  },
  {
   "cell_type": "markdown",
   "metadata": {},
   "source": [
    "8\\. Diffusion using random walk\n",
    "\n",
    "Consider a simple random walk process: at each step in time, a walker jumps right or left (+1 or -1) with equal probability. The goal is to find the typical distance from the origin of a random walker after a given amount of time. \n",
    "To do that, let's simulate many walkers and create a 2D array with each walker as a raw and the actual time evolution as columns\n",
    "\n",
    "  * Take 1000 walkers and let them walk for 200 steps\n",
    "  * Use randint to create a 2D array of size walkers x steps with values -1 or 1\n",
    "  * Build the actual walking distances for each walker (i.e. another 2D array \"summing on each raw\")\n",
    "  * Take the square of that 2D array (elementwise)\n",
    "  * Compute the mean of the squared distances at each step (i.e. the mean along the columns)\n",
    "  * Plot the average distances (sqrt(distance\\*\\*2)) as a function of time (step)\n",
    "  \n",
    "Did you get what you expected?"
   ]
  },
  {
   "cell_type": "code",
   "execution_count": 14,
   "metadata": {},
   "outputs": [
    {
     "data": {
      "image/png": "[encoded data removed]",
      "text/plain": [
       "<Figure size 432x288 with 1 Axes>"
      ]
     },
     "metadata": {
      "needs_background": "light"
     },
     "output_type": "display_data"
    }
   ],
   "source": [
    "matrix = np.random.randint(0,2,(1000, 200))\n",
    "matrix[matrix==0] = -1\n",
    "\n",
    "enrico = np.cumsum(matrix, axis=1)\n",
    "sebastiano = enrico**2\n",
    "mean_seb = np.mean(sebastiano, axis=0)\n",
    "time = np.arange(200)\n",
    "import matplotlib.pyplot as plt\n",
    "plt.plot(time, np.sqrt(mean_seb))\n",
    "plt.show()"
   ]
  },
  {
   "cell_type": "markdown",
   "metadata": {},
   "source": [
    "9\\. Analyze a data file \n",
    "  * Download the population of hares, lynxes and carrots at the beginning of the last century.\n",
    "    ```python\n",
    "    ! wget https://www.dropbox.com/s/3vigxoqayo389uc/populations.txt\n",
    "    ```\n",
    "\n",
    "  * Check the content by looking within the file\n",
    "  * Load the data (use an appropriate numpy method) into a 2D array\n",
    "  * Create arrays out of the columns, the arrays being (in order): *year*, *hares*, *lynxes*, *carrots* \n",
    "  * Plot the 3 populations over the years\n",
    "  * Compute the main statistical properties of the dataset (mean, std, correlations, etc.)\n",
    "  * Which species has the highest population each year?\n",
    "\n",
    "Do you feel there is some evident correlation here? [Studies](https://www.enr.gov.nt.ca/en/services/lynx/lynx-snowshoe-hare-cycle) tend to believe so."
   ]
  },
  {
   "cell_type": "code",
   "execution_count": 15,
   "metadata": {},
   "outputs": [
    {
     "name": "stdout",
     "output_type": "stream",
     "text": [
      "--2024-01-17 11:19:55--  https://www.dropbox.com/s/3vigxoqayo389uc/populations.txt\n",
      "Resolving www.dropbox.com (www.dropbox.com)... 162.125.69.18, 2620:100:6025:18::a27d:4512\n",
      "Connecting to www.dropbox.com (www.dropbox.com)|162.125.69.18|:443... connected.\n",
      "HTTP request sent, awaiting response... 302 Found\n",
      "Location: /s/raw/3vigxoqayo389uc/populations.txt [following]\n",
      "--2024-01-17 11:19:55--  https://www.dropbox.com/s/raw/3vigxoqayo389uc/populations.txt\n",
      "Reusing existing connection to www.dropbox.com:443.\n",
      "HTTP request sent, awaiting response... 302 Found\n",
      "Location: https://uccd6b31008cb60fbef6a3f6ac8b.dl.dropboxusercontent.com/cd/0/inline/CLgdNGQJMYFG2gLp3ttmBUB_J444tOmN3rgrMGRi0Sdq479U0PV1lGMvgw0Wg7-m4nWVtnxqs0m57k_VHY3h7kTk3SvHFyljwGOz0pAImLyILWGi1XayGHFZJhzO1kd8QwA/file# [following]\n",
      "--2024-01-17 11:19:55--  https://uccd6b31008cb60fbef6a3f6ac8b.dl.dropboxusercontent.com/cd/0/inline/CLgdNGQJMYFG2gLp3ttmBUB_J444tOmN3rgrMGRi0Sdq479U0PV1lGMvgw0Wg7-m4nWVtnxqs0m57k_VHY3h7kTk3SvHFyljwGOz0pAImLyILWGi1XayGHFZJhzO1kd8QwA/file\n",
      "Resolving uccd6b31008cb60fbef6a3f6ac8b.dl.dropboxusercontent.com (uccd6b31008cb60fbef6a3f6ac8b.dl.dropboxusercontent.com)... 162.125.69.15, 2620:100:6025:15::a27d:450f\n",
      "Connecting to uccd6b31008cb60fbef6a3f6ac8b.dl.dropboxusercontent.com (uccd6b31008cb60fbef6a3f6ac8b.dl.dropboxusercontent.com)|162.125.69.15|:443... connected.\n",
      "HTTP request sent, awaiting response... 200 OK\n",
      "Length: 525 [text/plain]\n",
      "Saving to: ‘populations.txt.1’\n",
      "\n",
      "populations.txt.1   100%[===================>]     525  --.-KB/s    in 0s      \n",
      "\n",
      "2024-01-17 11:19:56 (29.8 MB/s) - ‘populations.txt.1’ saved [525/525]\n",
      "\n"
     ]
    }
   ],
   "source": [
    "! wget https://www.dropbox.com/s/3vigxoqayo389uc/populations.txt"
   ]
  },
  {
   "cell_type": "code",
   "execution_count": 29,
   "metadata": {},
   "outputs": [
    {
     "name": "stdout",
     "output_type": "stream",
     "text": [
      "[[ 1900. 30000.  4000. 48300.]\n",
      " [ 1901. 47200.  6100. 48200.]\n",
      " [ 1902. 70200.  9800. 41500.]\n",
      " [ 1903. 77400. 35200. 38200.]\n",
      " [ 1904. 36300. 59400. 40600.]\n",
      " [ 1905. 20600. 41700. 39800.]\n",
      " [ 1906. 18100. 19000. 38600.]\n",
      " [ 1907. 21400. 13000. 42300.]\n",
      " [ 1908. 22000.  8300. 44500.]\n",
      " [ 1909. 25400.  9100. 42100.]\n",
      " [ 1910. 27100.  7400. 46000.]\n",
      " [ 1911. 40300.  8000. 46800.]\n",
      " [ 1912. 57000. 12300. 43800.]\n",
      " [ 1913. 76600. 19500. 40900.]\n",
      " [ 1914. 52300. 45700. 39400.]\n",
      " [ 1915. 19500. 51100. 39000.]\n",
      " [ 1916. 11200. 29700. 36700.]\n",
      " [ 1917.  7600. 15800. 41800.]\n",
      " [ 1918. 14600.  9700. 43300.]\n",
      " [ 1919. 16200. 10100. 41300.]\n",
      " [ 1920. 24700.  8600. 47300.]]\n"
     ]
    }
   ],
   "source": [
    "data = np.loadtxt('populations.txt')\n",
    "print(data)"
   ]
  },
  {
   "cell_type": "code",
   "execution_count": 38,
   "metadata": {},
   "outputs": [
    {
     "data": {
      "image/png": "[encoded data removed]",
      "text/plain": [
       "<Figure size 432x288 with 1 Axes>"
      ]
     },
     "metadata": {
      "needs_background": "light"
     },
     "output_type": "display_data"
    }
   ],
   "source": [
    "year, hares, lynxes, carrots = np.split(data, [1,2,3], axis=1)\n",
    "plt.plot(year, hares)\n",
    "plt.plot(year, lynxes)\n",
    "plt.plot(year, carrots)\n",
    "plt.show()"
   ]
  },
  {
   "cell_type": "code",
   "execution_count": 48,
   "metadata": {},
   "outputs": [
    {
     "name": "stdout",
     "output_type": "stream",
     "text": [
      "[34080.95238095 20166.66666667 42400.        ]\n",
      "[20897.90645809 16254.59153691  3322.50622558]\n",
      "[[ 1.          0.07189206 -0.01660378]\n",
      " [ 0.07189206  1.         -0.68057717]\n",
      " [-0.01660378 -0.68057717  1.        ]]\n"
     ]
    }
   ],
   "source": [
    "reduced = data[:,1:]\n",
    "print(np.mean(reduced, axis=0))\n",
    "print(np.std(reduced, axis=0))\n",
    "print(np.corrcoef(reduced,rowvar=False))"
   ]
  }
 ],
 "metadata": {
  "kernelspec": {
   "display_name": "Python 3",
   "language": "python",
   "name": "python3"
  },
  "language_info": {
   "codemirror_mode": {
    "name": "ipython",
    "version": 3
   },
   "file_extension": ".py",
   "mimetype": "text/x-python",
   "name": "python",
   "nbconvert_exporter": "python",
   "pygments_lexer": "ipython3",
   "version": "3.6.8"
  }
 },
 "nbformat": 4,
 "nbformat_minor": 2
}
