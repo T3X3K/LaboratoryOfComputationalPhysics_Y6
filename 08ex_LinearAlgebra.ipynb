{
 "cells": [
  {
   "cell_type": "code",
   "execution_count": 2,
   "metadata": {},
   "outputs": [],
   "source": [
    "import numpy as np\n",
    "import numpy.random as rnd\n",
    "from scipy import linalg as la\n",
    "from icecream import ic"
   ]
  },
  {
   "cell_type": "markdown",
   "metadata": {},
   "source": [
    "1\\. **PCA on 3D dataset**\n",
    "\n",
    "* Generate a dataset with 3 features each with N entries (N being ${\\cal O}(1000)$). With $N(\\mu,\\sigma)$ the normali distribution with mean $\\mu$ and $\\sigma$  standard deviation, generate the 3 variables $x_{1,2,3}$ such that:\n",
    "    * $x_1$ is distributed as $N(0,1)$\n",
    "    * $x_2$ is distributed as $x_1+N(0,3)$\n",
    "    * $x_3$ is given by $2x_1+x_2$\n",
    "* Find the eigenvectors and eigenvalues of the covariance matrix of the dataset\n",
    "* Find the eigenvectors and eigenvalues using SVD. Check that the two procedures yield to same result\n",
    "* What percent of the total dataset's variability is explained by the principal components? Given how the dataset was constructed, do these make sense? Reduce the dimensionality of the system so that at least 99% of the total variability is retained.\n",
    "* Redefine the data in the basis yielded by the PCA procedure\n",
    "* Plot the data points in the original and the new coordiantes as a set of scatter plots. Your final figure should have 2 rows of 3 plots each, where the columns show the (0,1), (0,2) and (1,2) proejctions.\n"
   ]
  },
  {
   "cell_type": "code",
   "execution_count": 3,
   "metadata": {},
   "outputs": [
    {
     "name": "stderr",
     "output_type": "stream",
     "text": [
      "ic| l.real: array([2.71470279e+01, 1.42282240e-15, 2.03399582e+00])\n"
     ]
    },
    {
     "name": "stderr",
     "output_type": "stream",
     "text": [
      "ic| V: array([[-0.11314526, -0.81649658,  0.566155  ],\n",
      "              [-0.58025017, -0.40824829, -0.70472908],\n",
      "              [-0.80654069,  0.40824829,  0.42758092]])\n",
      "ic| l_svd: array([2.71653730e+01, 2.04298198e+00, 3.86996358e-30])\n",
      "ic| V_svd: array([[-0.11285584,  0.56621276, -0.81649658],\n",
      "                  [-0.58061033, -0.70443238, -0.40824829],\n",
      "                  [-0.80632202,  0.42799315,  0.40824829]])\n"
     ]
    },
    {
     "data": {
      "text/plain": [
       "array([[-0.11285584,  0.56621276, -0.81649658],\n",
       "       [-0.58061033, -0.70443238, -0.40824829],\n",
       "       [-0.80632202,  0.42799315,  0.40824829]])"
      ]
     },
     "execution_count": 3,
     "metadata": {},
     "output_type": "execute_result"
    }
   ],
   "source": [
    "N = 1000\n",
    "data = np.zeros([N,3])\n",
    "data[:,0] = np.array([rnd.normal(0,1,N)])\n",
    "data[:,1] = np.array([rnd.normal(0,3,N)]) + data[:,0]\n",
    "data[:,2] = 2*data[:,0] + data[:,1]\n",
    "\n",
    "cov = np.cov(data.T)\n",
    "l, V = la.eig(cov)\n",
    "ic(l.real)\n",
    "ic(V)\n",
    "\n",
    "U, spectrum, Vt = np.linalg.svd(data.T)\n",
    "\n",
    "l_svd = spectrum**2/(N-1)\n",
    "V_svd = U\n",
    "ic(l_svd)\n",
    "ic(V_svd)"
   ]
  },
  {
   "cell_type": "code",
   "execution_count": 4,
   "metadata": {},
   "outputs": [
    {
     "name": "stderr",
     "output_type": "stream",
     "text": [
      "ic| new_variability/variability: (0.9990642668329133+0j)\n"
     ]
    },
    {
     "name": "stdout",
     "output_type": "stream",
     "text": [
      "[0.9300548769286733, 0.06994512307132668, 1.3249508860199588e-31]\n"
     ]
    },
    {
     "data": {
      "text/plain": [
       "(0.9990642668329133+0j)"
      ]
     },
     "execution_count": 4,
     "metadata": {},
     "output_type": "execute_result"
    }
   ],
   "source": [
    "variability = l_svd.sum()\n",
    "print([l_svdi/variability for l_svdi in l_svd])\n",
    "\n",
    "new_dataset = np.dot(V.T, data.T)\n",
    "reduced = np.delete(new_dataset, 1, 0)\n",
    "\n",
    "new_l, new_V = la.eig(np.cov(reduced))\n",
    "new_variability = new_l.sum()\n",
    "\n",
    "ic(new_variability/variability)"
   ]
  },
  {
   "cell_type": "markdown",
   "metadata": {},
   "source": [
    "2\\. **PCA on a nD dataset**\n",
    "\n",
    "Start from the dataset you have genereted in the previous exercise and add uncorrelated random noise. Such noise should be represented by other 10 uncorrelated variables normal distributed, with standar deviation much smaller (say, a factor 50) than those used to generate the $x_1$ and $x_2$.\n",
    "\n",
    "Repeat the PCA procedure and compare the results with what you obtained before"
   ]
  },
  {
   "cell_type": "code",
   "execution_count": 14,
   "metadata": {},
   "outputs": [
    {
     "name": "stderr",
     "output_type": "stream",
     "text": [
      "ic| nl_svd.sum(): 29.37441253052834\n",
      "ic| l_svd.sum(): 29.20835494260171\n",
      "ic| l.sum(): (29.181023716125885+0j)\n",
      "ic| nl.sum(): (29.346742918346887+0j)\n"
     ]
    },
    {
     "data": {
      "text/plain": [
       "(29.346742918346887+0j)"
      ]
     },
     "execution_count": 14,
     "metadata": {},
     "output_type": "execute_result"
    }
   ],
   "source": [
    "noise1 = np.array([rnd.normal(0,1/50,(N,3)) for i in range(10)])\n",
    "noise2 = np.array([rnd.normal(0,3/50,(N,3)) for i in range(10)])\n",
    "ndata = np.zeros((N,2))\n",
    "ndata = data + noise1.sum(axis=0) + noise2.sum(axis=0)\n",
    "\n",
    "nU, nspectrum, nVt = np.linalg.svd(ndata.T)\n",
    "nl, _ = la.eig(np.cov(ndata.T))\n",
    "\n",
    "nl_svd = nspectrum**2/(N-1)\n",
    "nV_svd = nU\n",
    "nvariability = nl_svd.sum()\n",
    "ic(nl_svd.sum())\n",
    "ic(l_svd.sum())\n",
    "ic(l.sum())\n",
    "ic(nl.sum())"
   ]
  },
  {
   "cell_type": "markdown",
   "metadata": {},
   "source": [
    "3 \\. **Looking at an oscillating spring** (optional)\n",
    "\n",
    "Imagine you have $n$ cameras looking at a spring oscillating along the $x$ axis. Each  camera record the motion of the spring looking at it along a given direction defined by the pair $(\\theta_i, \\phi_i)$, the angles in spherical coordinates. \n",
    "\n",
    "Start from the simulation of the records (say ${\\cal O}(1000)$) of the spring's motion along the x axis, assuming a little random noise affects the measurements along the $y$. Rotate such dataset to emulate the records of each camera.\n",
    "\n",
    "Perform a Principal Component Analysis on the thus obtained dataset, aiming at finding the only one coordinate that really matters.\n"
   ]
  },
  {
   "cell_type": "markdown",
   "metadata": {},
   "source": [
    "4\\. **PCA on the MAGIC dataset** (optional)\n",
    "\n",
    "Perform a PCA on the magic04.data dataset"
   ]
  },
  {
   "cell_type": "code",
   "execution_count": 6,
   "metadata": {},
   "outputs": [
    {
     "name": "stdout",
     "output_type": "stream",
     "text": [
      "--2024-01-20 23:59:51--  https://archive.ics.uci.edu/ml/machine-learning-databases/magic/magic04.data\n",
      "Resolving archive.ics.uci.edu (archive.ics.uci.edu)... 128.195.10.252\n",
      "Connecting to archive.ics.uci.edu (archive.ics.uci.edu)|128.195.10.252|:443... connected.\n",
      "HTTP request sent, awaiting response... 200 OK\n",
      "Length: unspecified\n",
      "Saving to: ‘/home/toxin21/data/magic04.data.1’\n",
      "\n",
      "magic04.data.1          [                <=> ]   1.41M   378KB/s    in 3.8s    \n",
      "\n",
      "2024-01-20 23:59:56 (378 KB/s) - ‘/home/toxin21/data/magic04.data.1’ saved [1477391]\n",
      "\n",
      "--2024-01-20 23:59:56--  https://archive.ics.uci.edu/ml/machine-learning-databases/magic/magic04.names\n",
      "Resolving archive.ics.uci.edu (archive.ics.uci.edu)... 128.195.10.252\n",
      "Connecting to archive.ics.uci.edu (archive.ics.uci.edu)|128.195.10.252|:443... connected.\n",
      "HTTP request sent, awaiting response... 200 OK\n",
      "Length: unspecified\n",
      "Saving to: ‘/home/toxin21/data/magic04.names.1’\n",
      "\n",
      "magic04.names.1         [ <=>                ]   5.27K  --.-KB/s    in 0s      \n",
      "\n",
      "2024-01-20 23:59:57 (58.4 MB/s) - ‘/home/toxin21/data/magic04.names.1’ saved [5400]\n",
      "\n"
     ]
    }
   ],
   "source": [
    "# get the dataset and its description on the proper data directory\n",
    "!wget https://archive.ics.uci.edu/ml/machine-learning-databases/magic/magic04.data -P ~/data/\n",
    "!wget https://archive.ics.uci.edu/ml/machine-learning-databases/magic/magic04.names -P ~/data/ "
   ]
  }
 ],
 "metadata": {
  "kernelspec": {
   "display_name": "Python 3",
   "language": "python",
   "name": "python3"
  },
  "language_info": {
   "codemirror_mode": {
    "name": "ipython",
    "version": 3
   },
   "file_extension": ".py",
   "mimetype": "text/x-python",
   "name": "python",
   "nbconvert_exporter": "python",
   "pygments_lexer": "ipython3",
   "version": "3.8.10"
  }
 },
 "nbformat": 4,
 "nbformat_minor": 2
}
