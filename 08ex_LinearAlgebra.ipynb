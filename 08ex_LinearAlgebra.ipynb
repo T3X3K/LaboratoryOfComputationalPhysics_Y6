{
 "cells": [
  {
   "cell_type": "code",
   "execution_count": 1,
   "metadata": {},
   "outputs": [],
   "source": [
    "import numpy as np\n",
    "import numpy.random as rnd\n",
    "from scipy import linalg as la"
   ]
  },
  {
   "cell_type": "markdown",
   "metadata": {},
   "source": [
    "1\\. **PCA on 3D dataset**\n",
    "\n",
    "* Generate a dataset with 3 features each with N entries (N being ${\\cal O}(1000)$). With $N(\\mu,\\sigma)$ the normali distribution with mean $\\mu$ and $\\sigma$  standard deviation, generate the 3 variables $x_{1,2,3}$ such that:\n",
    "    * $x_1$ is distributed as $N(0,1)$\n",
    "    * $x_2$ is distributed as $x_1+N(0,3)$\n",
    "    * $x_3$ is given by $2x_1+x_2$\n",
    "* Find the eigenvectors and eigenvalues of the covariance matrix of the dataset\n",
    "* Find the eigenvectors and eigenvalues using SVD. Check that the two procedures yield to same result\n",
    "* What percent of the total dataset's variability is explained by the principal components? Given how the dataset was constructed, do these make sense? Reduce the dimensionality of the system so that at least 99% of the total variability is retained.\n",
    "* Redefine the data in the basis yielded by the PCA procedure\n",
    "* Plot the data points in the original and the new coordiantes as a set of scatter plots. Your final figure should have 2 rows of 3 plots each, where the columns show the (0,1), (0,2) and (1,2) proejctions.\n"
   ]
  },
  {
   "cell_type": "code",
   "execution_count": 23,
   "metadata": {},
   "outputs": [],
   "source": [
    "N = 1000\n",
    "data = np.zeros([N,3])\n",
    "data[:,0] = np.array([rnd.normal(0,1,N)])\n",
    "data[:,1] = np.array([rnd.normal(0,3,N)]) + data[:,0]\n",
    "data[:,2] = 2*data[:,0] + data[:,1]\n",
    "\n",
    "cov = np.cov(data.T)\n",
    "l, V = la.eig(cov)\n",
    "\n",
    "U, spectrum, Vt = np.linalg.svd(data.T)\n",
    "\n",
    "l_svd = spectrum**2/(N-1)\n",
    "V_svd = U"
   ]
  },
  {
   "cell_type": "code",
   "execution_count": 24,
   "metadata": {},
   "outputs": [
    {
     "name": "stdout",
     "output_type": "stream",
     "text": [
      "[2.83835497e+01 2.04956049e+00 5.43686404e-31]\n",
      "1.786496353708803e-32\n",
      "[10.51179958  0.92235716]\n",
      "-0.6242856323817116\n"
     ]
    }
   ],
   "source": [
    "variability = l_svd.sum()\n",
    "print(l_svd)\n",
    "print(l_svd[-1]/variability)\n",
    "new_data = data[:,:2]\n",
    "\n",
    "cov = np.cov(new_data.T)\n",
    "l, V = la.eig(cov)\n",
    "\n",
    "U, spectrum, Vt = np.linalg.svd(new_data.T)\n",
    "\n",
    "l_svd = spectrum**2/(N-1)\n",
    "V_svd = U\n",
    "print(l_svd)\n",
    "\n",
    "new_variability = l_svd.sum()\n",
    "print((new_variability-variability)/variability)"
   ]
  },
  {
   "cell_type": "markdown",
   "metadata": {},
   "source": [
    "2\\. **PCA on a nD dataset**\n",
    "\n",
    "Start from the dataset you have genereted in the previous exercise and add uncorrelated random noise. Such noise should be represented by other 10 uncorrelated variables normal distributed, with standar deviation much smaller (say, a factor 50) than those used to generate the $x_1$ and $x_2$.\n",
    "\n",
    "Repeat the PCA procedure and compare the results with what you obtained before"
   ]
  },
  {
   "cell_type": "code",
   "execution_count": 35,
   "metadata": {},
   "outputs": [
    {
     "name": "stdout",
     "output_type": "stream",
     "text": [
      "[10.51074062  0.93147591]\n"
     ]
    }
   ],
   "source": [
    "noise1 = np.array([rnd.normal(0,1/50,N) for i in range(10)])\n",
    "noise2 = np.array([rnd.normal(0,1/50,N) for i in range(10)])\n",
    "ndata = np.zeros((N,2))\n",
    "ndata[:,0] = data[:,0] + noise1.sum(axis=0)\n",
    "ndata[:,1] = data[:,1] + noise2.sum(axis=0)\n",
    "\n",
    "nU, nspectrum, nVt = np.linalg.svd(ndata.T)\n",
    "\n",
    "nl_svd = nspectrum**2/(N-1)\n",
    "nV_svd = nU\n",
    "nvariability = nl_svd.sum()\n",
    "print(nl_svd)"
   ]
  },
  {
   "cell_type": "markdown",
   "metadata": {},
   "source": [
    "3 \\. **Looking at an oscillating spring** (optional)\n",
    "\n",
    "Imagine you have $n$ cameras looking at a spring oscillating along the $x$ axis. Each  camera record the motion of the spring looking at it along a given direction defined by the pair $(\\theta_i, \\phi_i)$, the angles in spherical coordinates. \n",
    "\n",
    "Start from the simulation of the records (say ${\\cal O}(1000)$) of the spring's motion along the x axis, assuming a little random noise affects the measurements along the $y$. Rotate such dataset to emulate the records of each camera.\n",
    "\n",
    "Perform a Principal Component Analysis on the thus obtained dataset, aiming at finding the only one coordinate that really matters.\n"
   ]
  },
  {
   "cell_type": "markdown",
   "metadata": {},
   "source": [
    "4\\. **PCA on the MAGIC dataset** (optional)\n",
    "\n",
    "Perform a PCA on the magic04.data dataset"
   ]
  },
  {
   "cell_type": "code",
   "execution_count": null,
   "metadata": {},
   "outputs": [],
   "source": [
    "# get the dataset and its description on the proper data directory\n",
    "!wget https://archive.ics.uci.edu/ml/machine-learning-databases/magic/magic04.data -P ~/data/\n",
    "!wget https://archive.ics.uci.edu/ml/machine-learning-databases/magic/magic04.names -P ~/data/ "
   ]
  }
 ],
 "metadata": {
  "kernelspec": {
   "display_name": "Python 3",
   "language": "python",
   "name": "python3"
  },
  "language_info": {
   "codemirror_mode": {
    "name": "ipython",
    "version": 3
   },
   "file_extension": ".py",
   "mimetype": "text/x-python",
   "name": "python",
   "nbconvert_exporter": "python",
   "pygments_lexer": "ipython3",
   "version": "3.8.10"
  }
 },
 "nbformat": 4,
 "nbformat_minor": 2
}
