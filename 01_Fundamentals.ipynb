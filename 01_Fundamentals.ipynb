{
 "cells": [
  {
   "cell_type": "markdown",
   "metadata": {},
   "source": [
    "# Modules/packages/libraries\n",
    "\n",
    "Definitions:\n",
    "\n",
    "  * Modules:\n",
    "  A module is a file which contains python functions, global variables etc. It is nothing but .py file which has python executable code / statement.\n",
    "\n",
    "  * Packages:\n",
    "  A package is a namespace which contains multiple package/modules. It is a directory which must contain a special file `__init__.py`\n",
    "  \n",
    "  * Libraries:\n",
    "  A library is a collection of various packages. There is no difference between package and python library conceptually.\n",
    "  \n",
    "Modules/packages/libraries can be easily \"imported\" and made functional in your python code. A set of libriaries comes with every python installation. Others can be installed locally and then imported. Your own code sitting somewhere else in your local computer can be imported too.\n",
    "\n",
    "Further details (very important!) on packages and how to create them can be found online. We may find the need of creating our own during the course."
   ]
  },
  {
   "cell_type": "code",
   "execution_count": 2,
   "metadata": {},
   "outputs": [
    {
     "name": "stdout",
     "output_type": "stream",
     "text": [
      "3.141592653589793\n",
      "3.141592653589793\n",
      "<module 'math' (built-in)>\n",
      "3.141592653589793\n"
     ]
    }
   ],
   "source": [
    "###### all the \"stuff\" that is in the math library can be used\n",
    "import math\n",
    "print(math.pi)\n",
    "\n",
    "# you can give math a label for convenience\n",
    "import math as m\n",
    "print (m.pi)\n",
    "print(m) #if you've defined m previously like m=1, now you loose that definition because m now stands for math\n",
    "\n",
    "\"\"\"m=1         # now it gives error, because putting m=1 has overwritten the other definition of m  \n",
    "print(m.pi)\"\"\" # so m doesn't stand anymore for math and you can't use it as scope resolution to get its functions\n",
    "\n",
    "# alternatively you can import only a given \"thing\" from the library\n",
    "from math import pi    #you can add several libraries at once, just list them separated by a \", \"\n",
    "print (pi)\n",
    "\n",
    "# or just get everything (very dangerous!!!)\n",
    "#from math import *\n",
    "#print (sqrt(7))"
   ]
  },
  {
   "cell_type": "markdown",
   "metadata": {},
   "source": [
    "To know which modules are there for you to use just type:"
   ]
  },
  {
   "cell_type": "code",
   "execution_count": 3,
   "metadata": {},
   "outputs": [
    {
     "name": "stdout",
     "output_type": "stream",
     "text": [
      "\n",
      "Please wait a moment while I gather a list of all available modules...\n",
      "\n",
      "Welcome to JupyROOT 6.28/04\n"
     ]
    },
    {
     "name": "stderr",
     "output_type": "stream",
     "text": [
      "/usr/lib/python3/dist-packages/IPython/kernel/__init__.py:12: ShimWarning: The `IPython.kernel` package has been deprecated since IPython 4.0.You should import from ipykernel or jupyter_client instead.\n",
      "  warn(\"The `IPython.kernel` package has been deprecated since IPython 4.0.\"\n",
      "/usr/lib/python3.8/pkgutil.py:107: VisibleDeprecationWarning: zmq.eventloop.minitornado is deprecated in pyzmq 14.0 and will be removed.\n",
      "    Install tornado itself to use zmq with the tornado IOLoop.\n",
      "    \n",
      "  yield from walk_packages(path, info.name+'.', onerror)\n"
     ]
    },
    {
     "name": "stdout",
     "output_type": "stream",
     "text": [
      "CommandNotFound     datetime            libROOTPythonizations2_7 pdf2image\n",
      "DistRDF             dateutil            libROOTPythonizations3_6 pexpect\n",
      "DistUpgrade         dbm                 libROOTPythonizations3_8 pickle\n",
      "HweSupportStatus    dbus                libROOTTMVASofie    pickleshare\n",
      "IPython             deb822              libROOTTMVASofieParser pickletools\n",
      "JsMVA               debconf             libROOTTPython      pip\n",
      "JupyROOT            debian              libROOTVecOps       pipes\n",
      "LanguageSelector    debian_bundle       libROOTWebDisplay   pkg_resources\n",
      "OpenSSL             decimal             libRSQLite          pkgutil\n",
      "PIL                 decorator           libRecorder         platform\n",
      "PyPDF2              defer               libRint             platformdirs\n",
      "ROOT                defusedxml          libRooBatchCompute  plistlib\n",
      "UpdateManager       difflib             libRooBatchCompute_AVX poplib\n",
      "__future__          dis                 libRooBatchCompute_AVX2 posix\n",
      "_abc                distlib             libRooBatchCompute_AVX512 posixpath\n",
      "_ast                distro              libRooBatchCompute_GENERIC pprint\n",
      "_asyncio            distro_info         libRooFit           problem_report\n",
      "_bisect             distutils           libRooFitCommon     profile\n",
      "_blake2             doctest             libRooFitCore       progress\n",
      "_bootlocale         dummy_threading     libRooFitHS3        prometheus_client\n",
      "_bz2                easy_install        libRooFitJSONInterface prompt_toolkit\n",
      "_cffi_backend       email               libRooFitMore       pstats\n",
      "_codecs             encodings           libRooFitMultiProcess psutil\n",
      "_codecs_cn          ensurepip           libRooFitRDataFrameHelpers pty\n",
      "_codecs_hk          entrypoints         libRooFitZMQ        ptyprocess\n",
      "_codecs_iso2022     enum                libRooStats         pvectorc\n",
      "_codecs_jp          errno               libRootAuth         pwd\n",
      "_codecs_kr          et_xmlfile          libSPlot            py_compile\n",
      "_codecs_tw          faulthandler        libSQLIO            pyasn1\n",
      "_collections        fcntl               libSessionViewer    pyasn1_modules\n",
      "_collections_abc    filecmp             libSmatrix          pyclbr\n",
      "_compat_pickle      fileinput           libSpectrum         pydoc\n",
      "_compression        filelock            libSpectrumPainter  pydoc_data\n",
      "_contextvars        fnmatch             libSrvAuth          pyexpat\n",
      "_crypt              fontTools           libTMVA             pygments\n",
      "_csv                formatter           libTMVAGui          pygtkcompat\n",
      "_ctypes             fractions           libThread           pylab\n",
      "_ctypes_test        ftplib              libTree             pymacaroons\n",
      "_curses             function            libTreePlayer       pyparsing\n",
      "_curses_panel       functools           libTreeViewer       pyrfc3339\n",
      "_datetime           gc                  libUnfold           pyrsistent\n",
      "_dbm                genericpath         libUnuran           pytesseract\n",
      "_dbus_bindings      getopt              libVMC              pytz\n",
      "_dbus_glib_bindings getpass             libWebGui6          queue\n",
      "_decimal            gettext             libX3d              quopri\n",
      "_dummy_thread       gi                  libXMLIO            random\n",
      "_elementtree        glob                libXMLParser        ranger\n",
      "_functools          googlesearch        libXrdAppUtils      re\n",
      "_gdbm               grp                 libXrdBlacklistDecision-4 readline\n",
      "_hashlib            gzip                libXrdBlacklistDecision-5 reprlib\n",
      "_heapq              h11                 libXrdBwm-4         requests\n",
      "_imp                hamcrest            libXrdBwm-5         requests_unixsocket\n",
      "_io                 hashlib             libXrdCksCalczcrc32-4 resource\n",
      "_json               heapq               libXrdCksCalczcrc32-5 rlcompleter\n",
      "_ldb_text           hmac                libXrdCl            rmagic\n",
      "_locale             html                libXrdClHttp-5      rotta\n",
      "_lsprof             html5lib            libXrdClProxyPlugin-4 runpy\n",
      "_lzma               http                libXrdClProxyPlugin-5 sched\n",
      "_markupbase         httplib2            libXrdClRecorder-5  scipy\n",
      "_md5                hyperlink           libXrdClient        secrets\n",
      "_multibytecodec     ide50               libXrdCmsRedirectLocal-4 secretstorage\n",
      "_multiprocessing    idna                libXrdCmsRedirectLocal-5 select\n",
      "_opcode             imaplib             libXrdCrypto        selectors\n",
      "_operator           imghdr              libXrdCryptoLite    selenium\n",
      "_osx_support        imp                 libXrdCryptossl-4   send2trash\n",
      "_pickle             importlib           libXrdCryptossl-5   serial\n",
      "_posixshmem         importlib_metadata  libXrdFfs           service_identity\n",
      "_posixsubprocess    importlib_resources libXrdFileCache-4   setuptools\n",
      "_py_abc             incremental         libXrdFileCache-5   shelve\n",
      "_pydecimal          inflect             libXrdHttp-4        shlex\n",
      "_pyio               inspect             libXrdHttp-5        shutil\n",
      "_pyrsistent_version io                  libXrdHttpTPC-5     signal\n",
      "_queue              ipaddr              libXrdHttpUtils     simplejson\n",
      "_random             ipaddress           libXrdN2No2p-4      site\n",
      "_sha1               ipykernel           libXrdN2No2p-5      sitecustomize\n",
      "_sha256             ipykernel_launcher  libXrdOfsPrepGPI-5  six\n",
      "_sha3               ipython_genutils    libXrdOssCsi-5      sklearn\n",
      "_sha512             ipywidgets          libXrdOssSIgpfsT-4  smtpd\n",
      "_signal             itertools           libXrdOssSIgpfsT-5  smtplib\n",
      "_sitebuiltins       janitor             libXrdPfc-5         snack\n",
      "_snack              jedi                libXrdPosix         sndhdr\n",
      "_socket             jinja2              libXrdPosixPreload  sniffio\n",
      "_sqlite3            joblib              libXrdPss-4         socket\n",
      "_sre                json                libXrdPss-5         socketserver\n",
      "_ssl                jsonpatch           libXrdSec-4         socks\n",
      "_stat               jsonpointer         libXrdSec-5         sockshandler\n",
      "_statistics         jsonschema          libXrdSecProt-4     softwareproperties\n",
      "_string             jupyter             libXrdSecProt-5     sortedcontainers\n",
      "_strptime           jupyter_client      libXrdSecgsi-4      sos\n",
      "_struct             jupyter_core        libXrdSecgsi-5      soupsieve\n",
      "_symtable           jwt                 libXrdSecgsiAUTHZVO-4 spwd\n",
      "_sysconfigdata__linux_x86_64-linux-gnu keyring             libXrdSecgsiAUTHZVO-5 sqlite3\n",
      "_sysconfigdata__x86_64-linux-gnu keyword             libXrdSecgsiGMAPDN-4 sre_compile\n",
      "_testbuffer         kiwisolver          libXrdSecgsiGMAPDN-5 sre_constants\n",
      "_testcapi           landscape           libXrdSeckrb5-4     sre_parse\n",
      "_testimportmultiple language_support_pkgs libXrdSeckrb5-5     ssh_import_id\n",
      "_testinternalcapi   latex2wp            libXrdSecpwd-4      ssl\n",
      "_testmultiphase     launchpadlib        libXrdSecpwd-5      stat\n",
      "_thread             ldb                 libXrdSecsss-4      statistics\n",
      "_threading_local    lib2to3             libXrdSecsss-5      storemagic\n",
      "_tkinter            libASImage          libXrdSecunix-4     string\n",
      "_tracemalloc        libASImageGui       libXrdSecunix-5     stringprep\n",
      "_uuid               libCling            libXrdServer        struct\n",
      "_version            libCore             libXrdSsi-4         subprocess\n",
      "_warnings           libEG               libXrdSsi-5         sunau\n",
      "_weakref            libEGPythia8        libXrdSsiLib        symbol\n",
      "_weakrefset         libEve              libXrdSsiLog-4      sympyprinting\n",
      "_xxsubinterpreters  libFFTW             libXrdSsiLog-5      symtable\n",
      "_xxtestfuzz         libFITSIO           libXrdSsiShMap      sys\n",
      "_yaml               libFTGL             libXrdThrottle-4    sysconfig\n",
      "abc                 libFitPanel         libXrdThrottle-5    syslog\n",
      "aifc                libFoam             libXrdUtils         systemd\n",
      "antigravity         libFumili           libXrdXml           tabnanny\n",
      "appdirs             libGLEW             libXrdXrootd-4      tabula\n",
      "apport              libGX11             libXrdXrootd-5      talloc\n",
      "apport_python_hook  libGX11TTF          libcomplexDict      tarfile\n",
      "apt                 libGdml             libcppyy2_7         telnetlib\n",
      "apt_inst            libGed              libcppyy3_6         tempfile\n",
      "apt_pkg             libGenVector        libcppyy3_8         termcolor\n",
      "aptdaemon           libGenetic          libcppyy_backend2_7 terminado\n",
      "aptsources          libGeom             libcppyy_backend3_6 termios\n",
      "argparse            libGeomBuilder      libcppyy_backend3_8 test\n",
      "array               libGeomPainter      libdequeDict        testpath\n",
      "ast                 libGpad             libforward_listDict tests\n",
      "async_generator     libGraf             liblistDict         textwrap\n",
      "asynchat            libGraf3d           libmap2Dict         this\n",
      "asyncio             libGui              libmapDict          threading\n",
      "asyncore            libGuiBld           libmultimap2Dict    threadpoolctl\n",
      "atexit              libGuiHtml          libmultimapDict     time\n",
      "attr                libGviz3d           libmultisetDict     timeit\n",
      "audioop             libHbook            libsetDict          tkinter\n",
      "automat             libHist             libtbb              token\n",
      "autoreload          libHistFactory      libtbbmalloc        tokenize\n",
      "backcall            libHistPainter      libtbbmalloc_proxy  toml\n",
      "base64              libHtml             libunordered_mapDict tornado\n",
      "bdb                 libImt              libunordered_multimapDict trace\n",
      "binascii            libJupyROOT2_7      libunordered_multisetDict traceback\n",
      "binhex              libJupyROOT3_6      libunordered_setDict tracemalloc\n",
      "bisect              libJupyROOT3_8      libvalarrayDict     traitlets\n",
      "bleach              libMLP              libvdt              trio\n",
      "blinker             libMathCore         libvectorDict       trio_websocket\n",
      "bs4                 libMathMore         linecache           tty\n",
      "builtins            libMatrix           locale              turtle\n",
      "bz2                 libMinuit           logging             twisted\n",
      "cProfile            libMinuit2          lsb_release         types\n",
      "cachecontrol        libMultiProc        lzma                typing\n",
      "cairo               libNet              macaroonbakery      typing_extensions\n",
      "calendar            libNetx             mailbox             uaclient\n",
      "certifi             libNetxNG           mailcap             ufw\n",
      "cgi                 libNew              markupsafe          unicodedata\n",
      "cgitb               libPgSQL            marshal             unittest\n",
      "chardet             libPhysics          math                urllib\n",
      "chunk               libPostscript       matplotlib          urllib3\n",
      "click               libProof            mimetypes           urwid\n",
      "cloudinit           libProofBench       mistune             uu\n",
      "cmath               libProofDraw        mmap                uuid\n",
      "cmd                 libProofPlayer      modulefinder        validate\n",
      "cmdLineUtils        libPyMVA            more_itertools      venv\n",
      "code                libQuadp            multiprocessing     virtualenv\n",
      "codecs              libRCsg             nacl                wadllib\n",
      "codeop              libRDAVIX           nbconvert           warnings\n",
      "collections         libRGL              nbformat            wave\n",
      "colorama            libRHTTP            netifaces           wcwidth\n",
      "colorsys            libRHTTPSniff       netrc               weakref\n",
      "compileall          libRIO              networkx            webbrowser\n",
      "concurrent          libRMySQL           nis                 webdriver_manager\n",
      "configobj           libROOTBranchBrowseProvider nntplib             webencodings\n",
      "configparser        libROOTBrowsable    notebook            wheel\n",
      "constantly          libROOTBrowserGeomWidget ntpath              widgetsnbextension\n",
      "contextlib          libROOTBrowserRCanvasWidget nturl2path          wsgiref\n",
      "contextlib2         libROOTBrowserTCanvasWidget numbers             wsproto\n",
      "contextvars         libROOTBrowserWidgets numpy               xdrlib\n",
      "contourpy           libROOTBrowserv7    oauthlib            xlrd\n",
      "copy                libROOTCanvasPainter opcode              xlwt\n",
      "copyreg             libROOTDataFrame    openpyxl            xml\n",
      "cppyy               libROOTEve          operator            xmlrpc\n",
      "cppyy_backend       libROOTFitPanelv7   optparse            xxlimited\n",
      "crypt               libROOTGpadv7       os                  xxsubtype\n",
      "cryptography        libROOTGraphicsPrimitives ossaudiodev         yaml\n",
      "csv                 libROOTHist         outcome             zipapp\n",
      "ctypes              libROOTHistDraw     packaging           zipfile\n",
      "cups                libROOTHistDrawProvider pandas              zipimport\n",
      "cupshelpers         libROOTLeafDraw6Provider pandocfilters       zipp\n",
      "curses              libROOTLeafDraw7Provider parser              zlib\n",
      "cycler              libROOTNTuple       parso               zmq\n",
      "cythonmagic         libROOTObjectDraw6Provider pathlib             zope\n",
      "dataclasses         libROOTObjectDraw7Provider pdb                 \n",
      "\n",
      "Enter any module name to get more help.  Or, type \"modules spam\" to search\n",
      "for modules whose name or summary contain the string \"spam\".\n",
      "\n",
      "None\n"
     ]
    }
   ],
   "source": [
    "print (help('modules') )\n"
   ]
  },
  {
   "cell_type": "markdown",
   "metadata": {},
   "source": [
    "`pip` is a special package. It is used from the command line to install properly (e.g. matching the version of the local packages) new packages. It can also be used from within python to check i.e. the set installed packages and their versions. N.B.: only the installed packages on top of the default ones will be listed "
   ]
  },
  {
   "cell_type": "code",
   "execution_count": 4,
   "metadata": {},
   "outputs": [],
   "source": [
    "try:\n",
    "    # this doesn't work anymore\n",
    "    import pip\n",
    "    sorted([\"%s==%s\" % (i.key, i.version) for i in pip._internal.utils.misc.get_installed_distributions()])\n",
    "\n",
    "except:\n",
    "    # use this instead\n",
    "    import pkg_resources\n",
    "    installed_packages = pkg_resources.working_set\n",
    "    installed_packages_list = sorted([\"%s==%s\" % (i.key, i.version)\n",
    "       for i in installed_packages])\n",
    "    print(installed_packages_list)\n"
   ]
  },
  {
   "cell_type": "markdown",
   "metadata": {},
   "source": [
    "# Functions\n",
    "\n",
    "Si possono fare dizionari di funzioni."
   ]
  },
  {
   "cell_type": "code",
   "execution_count": 5,
   "metadata": {},
   "outputs": [
    {
     "name": "stdout",
     "output_type": "stream",
     "text": [
      "9\n",
      "27\n",
      "9\n",
      "cube 27\n",
      "square 9\n"
     ]
    }
   ],
   "source": [
    "def square(x):\n",
    "    \"\"\"Square of x.\"\"\"\n",
    "    return x*x\n",
    "\n",
    "def cube(x):\n",
    "    \"\"\"Cube of x.\"\"\"\n",
    "    return x*x*x\n",
    "\n",
    "# create a dictionary of functions\n",
    "funcs = {\n",
    "    'square': square,\n",
    "    'cube': cube,\n",
    "}\n",
    "\n",
    "x = 3\n",
    "print(square(x))\n",
    "print(cube(x))\n",
    "print(funcs['square'](x))\n",
    "\n",
    "for func in sorted(funcs):\n",
    "    print (func, funcs[func](x))"
   ]
  },
  {
   "cell_type": "markdown",
   "metadata": {},
   "source": [
    "## Functions arguments"
   ]
  },
  {
   "cell_type": "markdown",
   "metadata": {},
   "source": [
    "What is passsed to a function is a copy of the input. Imagine we have a list *x =[1, 2, 3]*, i.e. a mutable object. If within the function the content of *x* is directly changed (e.g. *x[0] = 999*), then *x* changes outside the funciton as well.\n",
    "\n",
    "You can 'view' variables, which is basically the c++ pointer, which means we can actually modify the object. You can do this only if you're not redifining the variable. For instance, if you define a list and you reassign an element of your list, you're fine. Instead, if you input a list, and in the function you redifine the variable, then it will actually only pass by value."
   ]
  },
  {
   "cell_type": "code",
   "execution_count": 6,
   "metadata": {},
   "outputs": [
    {
     "name": "stdout",
     "output_type": "stream",
     "text": [
      "[1, 2, 3]\n",
      "[999, 2, 3]\n",
      "[999, 2, 3]\n"
     ]
    }
   ],
   "source": [
    "def modify(x):\n",
    "    x[0] = 999\n",
    "    return x\n",
    "\n",
    "x = [1,2,3]\n",
    "print (x)\n",
    "print (modify(x))\n",
    "print (x)"
   ]
  },
  {
   "cell_type": "markdown",
   "metadata": {},
   "source": [
    "However, if *x* is reassigned within the function to a new object (e.g. another list), then the copy of the name *x* now points to the new object, but *x* outside the function is unhcanged."
   ]
  },
  {
   "cell_type": "code",
   "execution_count": 7,
   "metadata": {},
   "outputs": [
    {
     "name": "stdout",
     "output_type": "stream",
     "text": [
      "[1, 2, 3]\n",
      "1\n",
      "[1, 2, 3]\n"
     ]
    }
   ],
   "source": [
    "def no_modify(x):\n",
    "    x = 1\n",
    "    return x\n",
    "\n",
    "x = [1,2,3]\n",
    "print (x)\n",
    "print (no_modify(x))\n",
    "print (x)\n"
   ]
  },
  {
   "cell_type": "markdown",
   "metadata": {},
   "source": [
    "What if the function tries to modify the value of an immutable object?"
   ]
  },
  {
   "cell_type": "markdown",
   "metadata": {},
   "source": [
    "Binding of default arguments occurs at function definition:"
   ]
  },
  {
   "cell_type": "code",
   "execution_count": 8,
   "metadata": {},
   "outputs": [
    {
     "name": "stdout",
     "output_type": "stream",
     "text": [
      "[1]\n",
      "[1, 1]\n",
      "[9, 9, 9, 1]\n",
      "[1, 1, 1]\n",
      "[1, 1, 1, 1]\n"
     ]
    }
   ],
   "source": [
    "def f(x = []):\n",
    "    x.append(1)\n",
    "    return x\n",
    "\n",
    "print (f())\n",
    "print (f())\n",
    "print (f(x = [9,9,9]))\n",
    "print (f())\n",
    "print (f())"
   ]
  },
  {
   "cell_type": "markdown",
   "metadata": {},
   "source": [
    "Try to aviod that!!"
   ]
  },
  {
   "cell_type": "code",
   "execution_count": 9,
   "metadata": {},
   "outputs": [
    {
     "name": "stdout",
     "output_type": "stream",
     "text": [
      "[1]\n",
      "[1]\n",
      "[9, 9, 9, 1]\n",
      "[1]\n",
      "[1]\n"
     ]
    }
   ],
   "source": [
    "def f(x = None):\n",
    "    if x is None:\n",
    "        x = []\n",
    "    x.append(1)\n",
    "    return x\n",
    "\n",
    "print (f())\n",
    "print (f())\n",
    "print (f(x = [9,9,9]))\n",
    "print (f())\n",
    "print (f())"
   ]
  },
  {
   "cell_type": "markdown",
   "metadata": {},
   "source": [
    "## Higher order functions\n",
    "\n",
    "A function that uses another function as an input argument or returns a function is known as a higher-order function (HOF). The most familiar examples are `map` and `filter`."
   ]
  },
  {
   "cell_type": "markdown",
   "metadata": {},
   "source": [
    "### map\n",
    "\n",
    "The map function applies a function to each member of a collection"
   ]
  },
  {
   "cell_type": "code",
   "execution_count": 10,
   "metadata": {},
   "outputs": [
    {
     "name": "stdout",
     "output_type": "stream",
     "text": [
      "<map object at 0x7f1dc4946df0>\n",
      "[0, 1, 4, 9, 16]\n",
      "(0, 1, 4, 9, 16)\n",
      "0\n",
      "1\n",
      "4\n",
      "9\n",
      "16\n"
     ]
    },
    {
     "data": {
      "text/plain": [
       "[0, 1, 4, 9, 16, 25]"
      ]
     },
     "execution_count": 10,
     "metadata": {},
     "output_type": "execute_result"
    }
   ],
   "source": [
    "x = (map(square, range(5))) \n",
    "print (x)\n",
    "x = list(map(square, range(5))) \n",
    "print (x)\n",
    "x = tuple(map(square, range(5))) \n",
    "print (x)\n",
    "\n",
    "# Note the difference w.r.t python 2. In python 3 map retuns an iterator so you can do stuff like:\n",
    "for i in map(square,range(5)): print(i)\n",
    "\n",
    "# or\n",
    "[i for i in map(square,range(6))]"
   ]
  },
  {
   "cell_type": "markdown",
   "metadata": {},
   "source": [
    "### filter\n",
    "\n",
    "The filter function applies a predicate to each member of a collection, retaining only those members where the predicate is True"
   ]
  },
  {
   "cell_type": "code",
   "execution_count": 11,
   "metadata": {},
   "outputs": [
    {
     "name": "stdout",
     "output_type": "stream",
     "text": [
      "[0, 2, 4]\n"
     ]
    }
   ],
   "source": [
    "def is_even(x):\n",
    "    return x%2 == 0\n",
    "\n",
    "print (list(filter(is_even, range(5))))"
   ]
  },
  {
   "cell_type": "markdown",
   "metadata": {},
   "source": [
    "Combinations in sequence of HOF are obviously possible"
   ]
  },
  {
   "cell_type": "code",
   "execution_count": 12,
   "metadata": {},
   "outputs": [
    {
     "data": {
      "text/plain": [
       "[0, 4, 16]"
      ]
     },
     "execution_count": 12,
     "metadata": {},
     "output_type": "execute_result"
    }
   ],
   "source": [
    "list(map(square, filter(is_even, range(5))))"
   ]
  },
  {
   "cell_type": "markdown",
   "metadata": {},
   "source": [
    "### reduce\n",
    "\n",
    "The reduce function reduces a collection using a binary operator to combine items two at a time. More often than not reduce can be substituted with a more efficient for loop. It is worth mentioning it for its key role in big-data applications together with map (the map-reduce paradigm). \n",
    "N.B.: it no loger exist as built-in function in python 3, it is now part of the `functools` library"
   ]
  },
  {
   "cell_type": "code",
   "execution_count": 13,
   "metadata": {},
   "outputs": [
    {
     "data": {
      "text/plain": [
       "15"
      ]
     },
     "execution_count": 13,
     "metadata": {},
     "output_type": "execute_result"
    }
   ],
   "source": [
    "from functools import reduce\n",
    "\n",
    "def my_add(x, y):\n",
    "    return x + y\n",
    "\n",
    "# another implementation of the sum function\n",
    "reduce(my_add, [1,2,3,4,5])"
   ]
  },
  {
   "cell_type": "markdown",
   "metadata": {},
   "source": [
    "Widly used in big data with the map-reduce paradigm. But it was on the hype some years ago."
   ]
  },
  {
   "cell_type": "markdown",
   "metadata": {},
   "source": [
    "### zip\n",
    "\n",
    "zip is useful when you need to iterate over **matched** elements of multiple lists"
   ]
  },
  {
   "cell_type": "code",
   "execution_count": 14,
   "metadata": {},
   "outputs": [
    {
     "name": "stdout",
     "output_type": "stream",
     "text": [
      "1 10 a\n",
      "2 20 b\n",
      "3 30 c\n"
     ]
    }
   ],
   "source": [
    "xs = [1, 2, 3, 4]\n",
    "ys = [10, 20, 30, 40]\n",
    "zs = ['a', 'b', 'c',]\n",
    "\n",
    "for x, y, z in zip(xs, ys, zs):\n",
    "    print (x, y, z)"
   ]
  },
  {
   "cell_type": "markdown",
   "metadata": {},
   "source": [
    "### Custom HOF"
   ]
  },
  {
   "cell_type": "code",
   "execution_count": 15,
   "metadata": {},
   "outputs": [
    {
     "name": "stdout",
     "output_type": "stream",
     "text": [
      "30\n",
      "100\n"
     ]
    }
   ],
   "source": [
    "def custom_sum(xs, transform):\n",
    "    \"\"\"Returns the sum of xs after a user specified transform.\"\"\"\n",
    "    return sum(map(transform, xs))\n",
    "\n",
    "xs = range(5)\n",
    "print (custom_sum(xs, square))\n",
    "print (custom_sum(xs, cube))\n",
    "\n"
   ]
  },
  {
   "cell_type": "markdown",
   "metadata": {},
   "source": [
    "### Returning a function"
   ]
  },
  {
   "cell_type": "code",
   "execution_count": 16,
   "metadata": {},
   "outputs": [],
   "source": [
    "def make_logger(target):\n",
    "    def logger(data):\n",
    "        with open(target, 'a') as f:\n",
    "            f.write(data + '\\n')\n",
    "    return logger\n",
    "\n",
    "foo_logger = make_logger('foo.txt') #foo.txt will be created if not there already\n",
    "foo_logger('Hello')\n",
    "foo_logger('World')"
   ]
  },
  {
   "cell_type": "code",
   "execution_count": 17,
   "metadata": {},
   "outputs": [
    {
     "name": "stdout",
     "output_type": "stream",
     "text": [
      "Hello\n",
      "World\n"
     ]
    }
   ],
   "source": [
    "! cat 'foo.txt'"
   ]
  },
  {
   "cell_type": "markdown",
   "metadata": {},
   "source": [
    "## Anonimous functions (lambda)\n",
    "\n",
    "When using functional style, there is often the need to create specific functions that perform a limited task as input to a HOF such as map or filter. In such cases, these functions are often written as anonymous or lambda functions. \n",
    "The syntax is as follows:\n",
    "\n",
    "lambda *arguments* : *expression*\n",
    "\n",
    "\n",
    "If you find it hard to understand what a lambda function is doing, it should probably be rewritten as a regular function."
   ]
  },
  {
   "cell_type": "code",
   "execution_count": 18,
   "metadata": {},
   "outputs": [
    {
     "data": {
      "text/plain": [
       "7"
      ]
     },
     "execution_count": 18,
     "metadata": {},
     "output_type": "execute_result"
    }
   ],
   "source": [
    "suml = lambda x,y: x+y\n",
    "suml(3,4)"
   ]
  },
  {
   "cell_type": "code",
   "execution_count": 19,
   "metadata": {},
   "outputs": [
    {
     "data": {
      "text/plain": [
       "7"
      ]
     },
     "execution_count": 19,
     "metadata": {},
     "output_type": "execute_result"
    }
   ],
   "source": [
    "(lambda x,y: x+y)(3,4)"
   ]
  },
  {
   "cell_type": "code",
   "execution_count": 20,
   "metadata": {},
   "outputs": [
    {
     "name": "stdout",
     "output_type": "stream",
     "text": [
      "0\n",
      "1\n",
      "4\n",
      "9\n",
      "16\n"
     ]
    }
   ],
   "source": [
    "for i in map(lambda x: x*x, range(5)): print (i)"
   ]
  },
  {
   "cell_type": "code",
   "execution_count": 21,
   "metadata": {},
   "outputs": [
    {
     "name": "stdout",
     "output_type": "stream",
     "text": [
      "285\n"
     ]
    }
   ],
   "source": [
    "# what does this function do?\n",
    "from functools import reduce\n",
    "s1 = reduce(lambda x, y: x+y, map(lambda x: x**2, range(1,10)))\n",
    "print(s1)\n"
   ]
  },
  {
   "cell_type": "markdown",
   "metadata": {},
   "source": [
    "## Recursive functions "
   ]
  },
  {
   "cell_type": "code",
   "execution_count": 22,
   "metadata": {},
   "outputs": [
    {
     "name": "stdout",
     "output_type": "stream",
     "text": [
      "[1, 1, 2, 3, 5, 8, 13, 21, 34, 55]\n"
     ]
    }
   ],
   "source": [
    "def fib1(n):\n",
    "    \"\"\"Fib with recursion.\"\"\"\n",
    "\n",
    "    # base case\n",
    "    if n==0 or n==1:\n",
    "        return 1\n",
    "    # recursive case\n",
    "    else:\n",
    "        return fib1(n-1) + fib1(n-2)\n",
    "\n",
    "    \n",
    "print ([fib1(i) for i in range(10)])"
   ]
  },
  {
   "cell_type": "code",
   "execution_count": 23,
   "metadata": {},
   "outputs": [
    {
     "name": "stdout",
     "output_type": "stream",
     "text": [
      "[1, 1, 2, 3, 5, 8, 13, 21, 34, 55]\n"
     ]
    }
   ],
   "source": [
    "# In Python, a more efficient version that does not use recursion is\n",
    "\n",
    "def fib2(n):\n",
    "    \"\"\"Fib without recursion.\"\"\"\n",
    "    a, b = 0, 1\n",
    "    for i in range(1, n+1):\n",
    "        a, b = b, a+b\n",
    "    return b\n",
    "\n",
    "print ([fib2(i) for i in range(10)])"
   ]
  },
  {
   "cell_type": "code",
   "execution_count": 24,
   "metadata": {},
   "outputs": [
    {
     "name": "stdout",
     "output_type": "stream",
     "text": [
      "1.83 ms ± 2.61 µs per loop (mean ± std. dev. of 7 runs, 100 loops each)\n",
      "858 ns ± 3.97 ns per loop (mean ± std. dev. of 7 runs, 1000000 loops each)\n"
     ]
    }
   ],
   "source": [
    "# check indeed the timing:\n",
    "\n",
    "%timeit fib1(20)\n",
    "%timeit fib2(20)\n"
   ]
  },
  {
   "cell_type": "markdown",
   "metadata": {},
   "source": [
    "## Iterators\n",
    "\n",
    "Iterators represent streams of values. Because only one value is consumed at a time, they use very little memory. Use of iterators is very helpful for working with data sets too large to fit into RAM."
   ]
  },
  {
   "cell_type": "code",
   "execution_count": 25,
   "metadata": {},
   "outputs": [
    {
     "name": "stdout",
     "output_type": "stream",
     "text": [
      "1\n",
      "2\n",
      "3\n"
     ]
    },
    {
     "ename": "StopIteration",
     "evalue": "",
     "output_type": "error",
     "traceback": [
      "\u001b[0;31m---------------------------------------------------------------------------\u001b[0m",
      "\u001b[0;31mStopIteration\u001b[0m                             Traceback (most recent call last)",
      "\u001b[0;32m<ipython-input-25-7fd2aa3a4ecb>\u001b[0m in \u001b[0;36m<module>\u001b[0;34m\u001b[0m\n\u001b[1;32m      7\u001b[0m \u001b[0mprint\u001b[0m \u001b[0;34m(\u001b[0m\u001b[0mnext\u001b[0m\u001b[0;34m(\u001b[0m\u001b[0mx_iter\u001b[0m\u001b[0;34m)\u001b[0m\u001b[0;34m)\u001b[0m\u001b[0;34m\u001b[0m\u001b[0;34m\u001b[0m\u001b[0m\n\u001b[1;32m      8\u001b[0m \u001b[0mprint\u001b[0m \u001b[0;34m(\u001b[0m\u001b[0mnext\u001b[0m\u001b[0;34m(\u001b[0m\u001b[0mx_iter\u001b[0m\u001b[0;34m)\u001b[0m\u001b[0;34m)\u001b[0m\u001b[0;34m\u001b[0m\u001b[0;34m\u001b[0m\u001b[0m\n\u001b[0;32m----> 9\u001b[0;31m \u001b[0mprint\u001b[0m \u001b[0;34m(\u001b[0m\u001b[0mnext\u001b[0m\u001b[0;34m(\u001b[0m\u001b[0mx_iter\u001b[0m\u001b[0;34m)\u001b[0m\u001b[0;34m)\u001b[0m\u001b[0;34m\u001b[0m\u001b[0;34m\u001b[0m\u001b[0m\n\u001b[0m",
      "\u001b[0;31mStopIteration\u001b[0m: "
     ]
    }
   ],
   "source": [
    "# Iterators can be created from sequences with the built-in function iter()\n",
    "\n",
    "xs = [1,2,3]\n",
    "x_iter = iter(xs)\n",
    "\n",
    "print (next(x_iter))\n",
    "print (next(x_iter))\n",
    "print (next(x_iter))\n",
    "print (next(x_iter))"
   ]
  },
  {
   "cell_type": "code",
   "execution_count": null,
   "metadata": {},
   "outputs": [],
   "source": [
    "# Most commonly, iterators are used (automatically) within a for loop\n",
    "# which terminates when it encouters a StopIteration exception\n",
    "\n",
    "x_iter = iter(xs)\n",
    "for x in x_iter:\n",
    "    print (x)"
   ]
  },
  {
   "cell_type": "markdown",
   "metadata": {},
   "source": [
    "## More on comprehensions"
   ]
  },
  {
   "cell_type": "code",
   "execution_count": null,
   "metadata": {},
   "outputs": [],
   "source": [
    "# A generator expression\n",
    "\n",
    "print ((x for x in range(10)))\n",
    "\n",
    "# A list comprehesnnion\n",
    "\n",
    "print ([x**2 for x in range(10)])\n",
    "\n",
    "# A set comprehension\n",
    "\n",
    "print ({x for x in range(10)})\n",
    "\n",
    "# A dictionary comprehension\n",
    "\n",
    "print ({x: \"x\" for x in range(10)})"
   ]
  },
  {
   "cell_type": "markdown",
   "metadata": {},
   "source": [
    "## Useful Modules\n",
    "\n",
    "You may want to have a look at the content of the following modules for further usage of (HO) functions:\n",
    "  - [operator](https://docs.python.org/3/library/operator.html)\n",
    "  - [functools](https://docs.python.org/3/library/functools.html)\n",
    "  - [itertools](https://docs.python.org/3/library/itertools.html)\n",
    "  - [toolz](https://pypi.org/project/toolz/)\n",
    "  - [funcy](https://pypi.org/project/funcy/)"
   ]
  },
  {
   "cell_type": "markdown",
   "metadata": {},
   "source": [
    "## Decorators\n",
    "\n",
    "Decorators are a type of HOF that take a function and return a wrapped function that provides additional useful properties.\n",
    "\n",
    "Examples:\n",
    "\n",
    "  - logging\n",
    "  - profiling\n",
    "  - Just-In-Time (JIT) compilation"
   ]
  },
  {
   "cell_type": "code",
   "execution_count": null,
   "metadata": {},
   "outputs": [],
   "source": [
    "def my_decorator(func):\n",
    "    def wrapper():\n",
    "        print(\"Something is happening before the function is called.\")\n",
    "        func()\n",
    "        print(\"Something is happening after the function is called.\")\n",
    "    return wrapper\n",
    "\n",
    "def say_whee():\n",
    "    print(\"Whee!\")\n",
    "\n",
    "say_whee = my_decorator(say_whee)"
   ]
  },
  {
   "cell_type": "code",
   "execution_count": null,
   "metadata": {},
   "outputs": [
    {
     "name": "stdout",
     "output_type": "stream",
     "text": [
      "Something is happening before the function is called.\n",
      "Whee!\n",
      "Something is happening after the function is called.\n"
     ]
    }
   ],
   "source": [
    "say_whee()"
   ]
  },
  {
   "cell_type": "markdown",
   "metadata": {},
   "source": [
    "Python allows you to use decorators in a simpler way with the @ symbol, sometimes called the “pie” syntax"
   ]
  },
  {
   "cell_type": "code",
   "execution_count": null,
   "metadata": {},
   "outputs": [],
   "source": [
    "def my_decorator(func):\n",
    "    def wrapper():\n",
    "        print(\"Something is happening before the function is called.\")\n",
    "        func()\n",
    "        print(\"Something is happening after the function is called.\")\n",
    "    return wrapper\n",
    "\n",
    "@my_decorator\n",
    "def say_whee():\n",
    "    print(\"Whee!\")"
   ]
  },
  {
   "cell_type": "code",
   "execution_count": null,
   "metadata": {},
   "outputs": [
    {
     "name": "stdout",
     "output_type": "stream",
     "text": [
      "Something is happening before the function is called.\n",
      "Whee!\n",
      "Something is happening after the function is called.\n"
     ]
    }
   ],
   "source": [
    "say_whee()"
   ]
  },
  {
   "cell_type": "markdown",
   "metadata": {},
   "source": [
    "# Classes and Objects\n",
    "\n",
    "Old school object-oriented programming is possible and often used in python. Classes are defined similarly to standard object-oriented languages, with similar functionalities.\n",
    "\n",
    "The main python doc [page](https://docs.python.org/3/tutorial/classes.html) is worth reading through "
   ]
  },
  {
   "cell_type": "code",
   "execution_count": null,
   "metadata": {},
   "outputs": [],
   "source": [
    "class Pet:\n",
    "    # the \"constructor\"\n",
    "    def __init__(self, name, age):  #inizialize the elements of the class\n",
    "        self.name=name\n",
    "        self.age=age\n",
    "    # class functions take the \"self\" parameter !!!\n",
    "    def set_name(self,name):\n",
    "        self.name=name\n",
    "    def convert_age(self,factor):\n",
    "        self.age*=factor\n",
    "\n",
    "buddy=Pet(\"buddy\",12)\n",
    "print (buddy.name, buddy.age)\n",
    "buddy.age=3\n",
    "print (buddy.age)\n",
    "\n"
   ]
  },
  {
   "cell_type": "code",
   "execution_count": null,
   "metadata": {},
   "outputs": [],
   "source": [
    "# ineritance is straightforward\n",
    "class Dog(Pet):\n",
    "    # the following variables is \"global\", i.e. holds for all \"Dog\" objects\n",
    "    species = \"mammal\"\n",
    "    # functions can be redefined as usual\n",
    "    def convert_age(self):\n",
    "        self.age*=7\n",
    "    def set_species(self, species):\n",
    "        self.species = species\n",
    "        \n",
    "puppy=Dog(\"tobia\",10)\n",
    "print(puppy.name)\n",
    "puppy.convert_age()\n",
    "print(puppy.age)\n",
    "\n"
   ]
  },
  {
   "cell_type": "code",
   "execution_count": null,
   "metadata": {},
   "outputs": [],
   "source": []
  }
 ],
 "metadata": {
  "kernelspec": {
   "display_name": "Python 3",
   "language": "python",
   "name": "python3"
  },
  "language_info": {
   "codemirror_mode": {
    "name": "ipython",
    "version": 3
   },
   "file_extension": ".py",
   "mimetype": "text/x-python",
   "name": "python",
   "nbconvert_exporter": "python",
   "pygments_lexer": "ipython3",
   "version": "3.8.10"
  }
 },
 "nbformat": 4,
 "nbformat_minor": 2
}
