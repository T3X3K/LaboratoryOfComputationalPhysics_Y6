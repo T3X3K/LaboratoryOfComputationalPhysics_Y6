{
  "cells": [
    {
      "cell_type": "markdown",
      "metadata": {},
      "source": [
        "1. The MickeyMouse problem\n",
        "\n",
        "a) Write a program that prints the numbers from 1 to 100. But for multiples of 3 print `Mickey` instead of the corresponding number and for the multiples of 5 print `Mouse`. For numbers which are multiples of both three and five print `MickeyMouse`\n",
        "\n",
        "b) Put the result in a tuple and substitute `Mickey` with `Donald` and `Mouse` with `Duck`"
      ]
    },
    {
      "cell_type": "code",
      "execution_count": 17,
      "metadata": {},
      "outputs": [
        {
          "name": "stdout",
          "output_type": "stream",
          "text": [
            "1\n",
            "\n",
            "2\n",
            "\n",
            "Mickey\n",
            "\n",
            "4\n",
            "\n",
            "Mouse\n",
            "\n",
            "Mickey\n",
            "\n",
            "7\n",
            "\n",
            "8\n",
            "\n",
            "Mickey\n",
            "\n",
            "Mouse\n",
            "\n",
            "11\n",
            "\n",
            "Mickey\n",
            "\n",
            "13\n",
            "\n",
            "14\n",
            "\n",
            "MickeyMouse\n",
            "\n",
            "16\n",
            "\n",
            "17\n",
            "\n",
            "Mickey\n",
            "\n",
            "19\n",
            "\n",
            "Mouse\n",
            "\n",
            "Mickey\n",
            "\n",
            "22\n",
            "\n",
            "23\n",
            "\n",
            "Mickey\n",
            "\n",
            "Mouse\n",
            "\n",
            "26\n",
            "\n",
            "Mickey\n",
            "\n",
            "28\n",
            "\n",
            "29\n",
            "\n",
            "MickeyMouse\n",
            "\n",
            "31\n",
            "\n",
            "32\n",
            "\n",
            "Mickey\n",
            "\n",
            "34\n",
            "\n",
            "Mouse\n",
            "\n",
            "Mickey\n",
            "\n",
            "37\n",
            "\n",
            "38\n",
            "\n",
            "Mickey\n",
            "\n",
            "Mouse\n",
            "\n",
            "41\n",
            "\n",
            "Mickey\n",
            "\n",
            "43\n",
            "\n",
            "44\n",
            "\n",
            "MickeyMouse\n",
            "\n",
            "46\n",
            "\n",
            "47\n",
            "\n",
            "Mickey\n",
            "\n",
            "49\n",
            "\n",
            "Mouse\n",
            "\n",
            "Mickey\n",
            "\n",
            "52\n",
            "\n",
            "53\n",
            "\n",
            "Mickey\n",
            "\n",
            "Mouse\n",
            "\n",
            "56\n",
            "\n",
            "Mickey\n",
            "\n",
            "58\n",
            "\n",
            "59\n",
            "\n",
            "MickeyMouse\n",
            "\n",
            "61\n",
            "\n",
            "62\n",
            "\n",
            "Mickey\n",
            "\n",
            "64\n",
            "\n",
            "Mouse\n",
            "\n",
            "Mickey\n",
            "\n",
            "67\n",
            "\n",
            "68\n",
            "\n",
            "Mickey\n",
            "\n",
            "Mouse\n",
            "\n",
            "71\n",
            "\n",
            "Mickey\n",
            "\n",
            "73\n",
            "\n",
            "74\n",
            "\n",
            "MickeyMouse\n",
            "\n",
            "76\n",
            "\n",
            "77\n",
            "\n",
            "Mickey\n",
            "\n",
            "79\n",
            "\n",
            "Mouse\n",
            "\n",
            "Mickey\n",
            "\n",
            "82\n",
            "\n",
            "83\n",
            "\n",
            "Mickey\n",
            "\n",
            "Mouse\n",
            "\n",
            "86\n",
            "\n",
            "Mickey\n",
            "\n",
            "88\n",
            "\n",
            "89\n",
            "\n",
            "MickeyMouse\n",
            "\n",
            "91\n",
            "\n",
            "92\n",
            "\n",
            "Mickey\n",
            "\n",
            "94\n",
            "\n",
            "Mouse\n",
            "\n",
            "Mickey\n",
            "\n",
            "97\n",
            "\n",
            "98\n",
            "\n",
            "Mickey\n",
            "\n",
            "Mouse\n",
            "\n",
            "(1, 2, 'Donald', 4, 'Duck', 'Donald', 7, 8, 'Donald', 'Duck', 11, 'Donald', 13, 14, 'DonaldDuck', 16, 17, 'Donald', 19, 'Duck', 'Donald', 22, 23, 'Donald', 'Duck', 26, 'Donald', 28, 29, 'DonaldDuck', 31, 32, 'Donald', 34, 'Duck', 'Donald', 37, 38, 'Donald', 'Duck', 41, 'Donald', 43, 44, 'DonaldDuck', 46, 47, 'Donald', 49, 'Duck', 'Donald', 52, 53, 'Donald', 'Duck', 56, 'Donald', 58, 59, 'DonaldDuck', 61, 62, 'Donald', 64, 'Duck', 'Donald', 67, 68, 'Donald', 'Duck', 71, 'Donald', 73, 74, 'DonaldDuck', 76, 77, 'Donald', 79, 'Duck', 'Donald', 82, 83, 'Donald', 'Duck', 86, 'Donald', 88, 89, 'DonaldDuck', 91, 92, 'Donald', 94, 'Duck', 'Donald', 97, 98, 'Donald', 'Duck')\n"
          ]
        }
      ],
      "source": [
        "a = []\n",
        "\n",
        "for i in range(1, 101):\n",
        "    if i%3==0 and i%5==0:\n",
        "        print('MickeyMouse')\n",
        "        a.append('MickeyMouse')\n",
        "    elif i%3==0:\n",
        "        print('Mickey')\n",
        "        a.append('Mickey')\n",
        "    elif i%5==0:\n",
        "        print('Mouse')\n",
        "        a.append('Mouse')\n",
        "    else:\n",
        "        print(i)\n",
        "        a.append(i)\n",
        "\n",
        "for i, element in enumerate(a):\n",
        "    if element == 'Mickey':\n",
        "        a[i] = 'Donald'\n",
        "    if element == 'Mouse':\n",
        "        a[i] = 'Duck'\n",
        "    if element == 'MickeyMouse':\n",
        "        a[i] = 'DonaldDuck'\n",
        "\n",
        "x = tuple(a)\n",
        "print(x)"
      ]
    },
    {
      "cell_type": "markdown",
      "metadata": {},
      "source": [
        "2\\. The swap function\n",
        "\n",
        "Write a function that swap the values of two input variables x and y (whatever the type). Try to do that also without a temporary variable"
      ]
    },
    {
      "cell_type": "code",
      "execution_count": 23,
      "metadata": {},
      "outputs": [],
      "source": [
        "def swap(x, y):\n",
        "    x, y = y, x\n",
        "    return"
      ]
    },
    {
      "cell_type": "markdown",
      "metadata": {},
      "source": [
        "3\\. Computing the distance\n",
        "\n",
        "Write a function that calculates and returns the euclidean distance between two points *u* and *v*, where *u* and *v* are both 2-tuples *(x,y)*. For example, if *u=(3,0)* and *v=(0,4)*, the function should return 5"
      ]
    },
    {
      "cell_type": "code",
      "execution_count": 26,
      "metadata": {},
      "outputs": [
        {
          "name": "stdout",
          "output_type": "stream",
          "text": [
            "5.0\n"
          ]
        }
      ],
      "source": [
        "from math import sqrt\n",
        "\n",
        "def distance(u, v):\n",
        "    return sqrt(    (v[0]-u[0])**2   +     (v[1]-u[1])**2     )\n",
        "\n",
        "u = (3, 0)\n",
        "v = (0, 4)\n",
        "print(distance(u, v))"
      ]
    },
    {
      "cell_type": "markdown",
      "metadata": {},
      "source": [
        "4\\. Counting letters\n",
        "\n",
        "Write a program to calculate the number of times each character occurs in a given string *s*. Ignore differneces in capitalization"
      ]
    },
    {
      "cell_type": "code",
      "execution_count": 1,
      "metadata": {
        "trusted": true
      },
      "outputs": [],
      "source": [
        "s=\"Write a program that prints the numbers from 1 to 100. \\\n",
        "But for multiples of three print Mickey instead of the number and for the multiples of five print Mouse. \\\n",
        "For numbers which are multiples of both three and five print MickeyMouse\".lower()\n",
        "\n",
        "chars = []\n",
        "counts = []\n",
        "for c in s:\n",
        "    if c not in chars:\n",
        "        chars.append(c)\n",
        "        counts.append(s.count(c))"
      ]
    },
    {
      "cell_type": "markdown",
      "metadata": {},
      "source": [
        "5\\. Isolating the unique\n",
        "\n",
        "Write a function that determines and count the unique numbers in the list *l*"
      ]
    },
    {
      "cell_type": "code",
      "execution_count": 8,
      "metadata": {
        "trusted": true
      },
      "outputs": [
        {
          "name": "stdout",
          "output_type": "stream",
          "text": [
            "[1, 5, 8, 9, 10, 16, 18, 19, 24, 30, 33, 37, 39, 41, 47, 53, 54, 55, 57, 58, 64, 72, 74, 75, 79, 81, 82, 86, 87, 88, 90, 92, 94, 95, 96, 98, 99]\n",
            "37\n"
          ]
        }
      ],
      "source": [
        "l = [36, 45, 58, 3, 74, 96, 64, 45, 31, 10, 24, 19, 33, 86, 99, 18, 63, 70, 85,\n",
        " 85, 63, 47, 56, 42, 70, 84, 88, 55, 20, 54, 8, 56, 51, 79, 81, 57, 37, 91,\n",
        " 1, 84, 84, 36, 66, 9, 89, 50, 42, 91, 50, 95, 90, 98, 39, 16, 82, 31, 92, 41,\n",
        " 45, 30, 66, 70, 34, 85, 94, 5, 3, 36, 72, 91, 84, 34, 87, 75, 53, 51, 20, 89, 51, 20]\n",
        "\n",
        "uniques = []\n",
        "l.sort()\n",
        "if l[0] != l[1]:\n",
        "    uniques.append(l[0])\n",
        "for i in range(1, len(l)-1):\n",
        "    if not ((l[i-1] == l[i]) or (l[i+1] == l[i])):\n",
        "        uniques.append(l[i])\n",
        "if l[-1] != l[-2]:\n",
        "    uniques.append(l[-1])\n",
        "\n",
        "print(uniques)\n",
        "print(len(uniques))"
      ]
    },
    {
      "cell_type": "markdown",
      "metadata": {},
      "source": [
        "6\\. Combination of functions\n",
        "\n",
        "Write two functions - one that returns the square of a number, and one that returns the cube. Now write a third function that returns the number raised to the 6th power using the two previous functions."
      ]
    },
    {
      "cell_type": "code",
      "execution_count": 27,
      "metadata": {},
      "outputs": [
        {
          "name": "stdout",
          "output_type": "stream",
          "text": [
            "64\n"
          ]
        }
      ],
      "source": [
        "def square(x):\n",
        "    return x**2\n",
        "\n",
        "def cube(x):\n",
        "    return x**3\n",
        "\n",
        "def sixth(x):\n",
        "    return cube(square(x))\n",
        "\n",
        "print(sixth(2))"
      ]
    },
    {
      "cell_type": "markdown",
      "metadata": {},
      "source": [
        "7\\. Cubes\n",
        "\n",
        "Create a list of the cubes of x for x in *[0, 10]* using:\n",
        "\n",
        "a) a for loop\n",
        "\n",
        "b) a list comprehension"
      ]
    },
    {
      "cell_type": "code",
      "execution_count": 30,
      "metadata": {},
      "outputs": [
        {
          "name": "stdout",
          "output_type": "stream",
          "text": [
            "[0, 1, 8, 27, 64, 125, 216, 343, 512, 729, 1000]\n",
            "\n",
            "[0, 1, 8, 27, 64, 125, 216, 343, 512, 729, 1000]\n"
          ]
        }
      ],
      "source": [
        "x = []\n",
        "for i in range(11):\n",
        "    x.append(i**3)\n",
        "    \n",
        "print(x)\n",
        "\n",
        "y = [j**3 for j in range(11)]\n",
        "print(y)"
      ]
    },
    {
      "cell_type": "markdown",
      "metadata": {},
      "source": [
        "8\\. Nested list comprehension\n",
        "\n",
        "A Pythagorean triple is an integer solution to the Pythagorean theorem $a^2+b^2=c^2$. The first Pythagorean triple is (3,4,5). Find and put in a tuple all unique Pythagorean triples for the positive integers a, b and c less than 100."
      ]
    },
    {
      "cell_type": "code",
      "execution_count": 46,
      "metadata": {},
      "outputs": [
        {
          "name": "stdout",
          "output_type": "stream",
          "text": [
            "[(3, 4, 5), (6, 8, 10), (5, 12, 13), (9, 12, 15), (8, 15, 17), (12, 16, 20), (15, 20, 25), (20, 21, 29), (7, 24, 25), (10, 24, 26), (18, 24, 30), (21, 28, 35), (16, 30, 34), (24, 32, 40), (12, 35, 37), (15, 36, 39), (27, 36, 45), (9, 40, 41), (30, 40, 50), (40, 42, 58), (33, 44, 55), (24, 45, 51), (28, 45, 53), (14, 48, 50), (20, 48, 52), (36, 48, 60), (39, 52, 65), (48, 55, 73), (33, 56, 65), (42, 56, 70), (11, 60, 61), (25, 60, 65), (32, 60, 68), (45, 60, 75), (16, 63, 65), (60, 63, 87), (48, 64, 80), (51, 68, 85), (24, 70, 74), (21, 72, 75), (30, 72, 78), (54, 72, 90), (65, 72, 97), (40, 75, 85), (57, 76, 95), (36, 77, 85), (18, 80, 82), (39, 80, 89), (60, 80, 100), (13, 84, 85), (35, 84, 91), (28, 96, 100)]\n"
          ]
        },
        {
          "data": {
            "text/plain": [
              "52"
            ]
          },
          "execution_count": 46,
          "metadata": {},
          "output_type": "execute_result"
        }
      ],
      "source": [
        "triple = [(a, b, int(sqrt(a**2+b**2))) for b in range(1, 101) \n",
        "                            for a in range(1, b)\n",
        "                            if sqrt(a**2 + b**2).is_integer() and (a**2 + b**2 <= 10000)]\n",
        "\n",
        "print(triple)\n",
        "len(triple)"
      ]
    },
    {
      "cell_type": "markdown",
      "metadata": {},
      "source": [
        "9\\. Normalization\n",
        "\n",
        "Write a function that takes a tuple of numbers and returns it with the entries normalized to one"
      ]
    },
    {
      "cell_type": "code",
      "execution_count": 35,
      "metadata": {
        "scrolled": true
      },
      "outputs": [
        {
          "name": "stdout",
          "output_type": "stream",
          "text": [
            "(0.5, 0.2, 0.3)\n"
          ]
        }
      ],
      "source": [
        "def coradin(cavezza):\n",
        "    lista = list(cavezza)\n",
        "    summa = sum(lista)\n",
        "    pod = [x/summa for x in lista]\n",
        "    return tuple(pod)\n",
        "\n",
        "d = (5, 2, 3)\n",
        "print(coradin(d))"
      ]
    }
  ],
  "metadata": {
    "kernelspec": {
      "display_name": "Python 3",
      "language": "python",
      "name": "python3"
    },
    "language_info": {
      "codemirror_mode": {
        "name": "ipython",
        "version": 3
      },
      "file_extension": ".py",
      "mimetype": "text/x-python",
      "name": "python",
      "nbconvert_exporter": "python",
      "pygments_lexer": "ipython3",
      "version": "3.8.10"
    }
  },
  "nbformat": 4,
  "nbformat_minor": 4
}
